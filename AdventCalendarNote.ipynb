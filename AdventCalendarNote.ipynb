{
 "cells": [
  {
   "cell_type": "markdown",
   "metadata": {},
   "source": [
    "このノートは RECRUIT MARKETING PARTNERS Advent Calndar 2017の記事のコードを記載したものです。"
   ]
  },
  {
   "cell_type": "code",
   "execution_count": 98,
   "metadata": {
    "collapsed": true
   },
   "outputs": [],
   "source": [
    "from sympy import *\n",
    "init_printing()"
   ]
  },
  {
   "cell_type": "markdown",
   "metadata": {},
   "source": [
    "# 平成29年度センター試験　数学I・数学A 第１問 [1] を解く"
   ]
  },
  {
   "cell_type": "markdown",
   "metadata": {},
   "source": [
    "## 与えられた式"
   ]
  },
  {
   "cell_type": "code",
   "execution_count": 99,
   "metadata": {
    "collapsed": true
   },
   "outputs": [],
   "source": [
    "x = Symbol('x')"
   ]
  },
  {
   "cell_type": "code",
   "execution_count": 100,
   "metadata": {
    "collapsed": true
   },
   "outputs": [],
   "source": [
    "f = x**2 + 4/x**2"
   ]
  },
  {
   "cell_type": "markdown",
   "metadata": {},
   "source": [
    "## 求める式1"
   ]
  },
  {
   "cell_type": "code",
   "execution_count": 101,
   "metadata": {
    "collapsed": true
   },
   "outputs": [],
   "source": [
    "g = (x + 2/x)**2"
   ]
  },
  {
   "cell_type": "markdown",
   "metadata": {},
   "source": [
    "`g` を `f` で除算し、 `f` の値を代入することで `g` を求める。"
   ]
  },
  {
   "cell_type": "code",
   "execution_count": 102,
   "metadata": {},
   "outputs": [
    {
     "data": {
      "image/png": "[encoded data removed]",
      "text/latex": [
       "$$\\left ( 1, \\quad 4\\right )$$"
      ],
      "text/plain": [
       "(1, 4)"
      ]
     },
     "execution_count": 102,
     "metadata": {},
     "output_type": "execute_result"
    }
   ],
   "source": [
    "div(g, f)"
   ]
  },
  {
   "cell_type": "code",
   "execution_count": 103,
   "metadata": {
    "collapsed": true
   },
   "outputs": [],
   "source": [
    "q,r = div(g,f)"
   ]
  },
  {
   "cell_type": "code",
   "execution_count": 104,
   "metadata": {
    "collapsed": true
   },
   "outputs": [],
   "source": [
    "h = q * f + r"
   ]
  },
  {
   "cell_type": "code",
   "execution_count": 105,
   "metadata": {},
   "outputs": [
    {
     "data": {
      "image/png": "[encoded data removed]",
      "text/latex": [
       "$$x^{2} + 4 + \\frac{4}{x^{2}}$$"
      ],
      "text/plain": [
       " 2       4 \n",
       "x  + 4 + ──\n",
       "          2\n",
       "         x "
      ]
     },
     "execution_count": 105,
     "metadata": {},
     "output_type": "execute_result"
    }
   ],
   "source": [
    "h"
   ]
  },
  {
   "cell_type": "markdown",
   "metadata": {},
   "source": [
    "`h` と `g` が一致していることの確認。"
   ]
  },
  {
   "cell_type": "code",
   "execution_count": 106,
   "metadata": {},
   "outputs": [
    {
     "data": {
      "text/plain": [
       "True"
      ]
     },
     "execution_count": 106,
     "metadata": {},
     "output_type": "execute_result"
    }
   ],
   "source": [
    "g.expand() == h"
   ]
  },
  {
   "cell_type": "code",
   "execution_count": 107,
   "metadata": {},
   "outputs": [
    {
     "data": {
      "image/png": "[encoded data removed]",
      "text/latex": [
       "$$13$$"
      ],
      "text/plain": [
       "13"
      ]
     },
     "execution_count": 107,
     "metadata": {},
     "output_type": "execute_result"
    }
   ],
   "source": [
    "h.subs({f:9})  # 答え　アイ"
   ]
  },
  {
   "cell_type": "markdown",
   "metadata": {},
   "source": [
    "## 求める式2"
   ]
  },
  {
   "cell_type": "code",
   "execution_count": 108,
   "metadata": {
    "collapsed": true
   },
   "outputs": [],
   "source": [
    "p = x**3 + 8/x**3"
   ]
  },
  {
   "cell_type": "code",
   "execution_count": 109,
   "metadata": {
    "collapsed": true
   },
   "outputs": [],
   "source": [
    "q = x + 2/x"
   ]
  },
  {
   "cell_type": "code",
   "execution_count": 110,
   "metadata": {},
   "outputs": [
    {
     "data": {
      "image/png": "[encoded data removed]",
      "text/latex": [
       "$$\\left ( x^{2} - 2 + \\frac{4}{x^{2}}, \\quad 0\\right )$$"
      ],
      "text/plain": [
       "⎛ 2       4    ⎞\n",
       "⎜x  - 2 + ──, 0⎟\n",
       "⎜          2   ⎟\n",
       "⎝         x    ⎠"
      ]
     },
     "execution_count": 110,
     "metadata": {},
     "output_type": "execute_result"
    }
   ],
   "source": [
    "div(p,q)"
   ]
  },
  {
   "cell_type": "markdown",
   "metadata": {},
   "source": [
    "よって、ウ=2。そして、pの値は以下に求まる。"
   ]
  },
  {
   "cell_type": "code",
   "execution_count": 111,
   "metadata": {
    "collapsed": true
   },
   "outputs": [],
   "source": [
    "p = sqrt(13) * (9 -2)  # p = (x+2/x) * (x**2 + 4/x**2 -2)"
   ]
  },
  {
   "cell_type": "code",
   "execution_count": 112,
   "metadata": {},
   "outputs": [
    {
     "data": {
      "image/png": "[encoded data removed]",
      "text/latex": [
       "$$7 \\sqrt{13}$$"
      ],
      "text/plain": [
       "7⋅√13"
      ]
     },
     "execution_count": 112,
     "metadata": {},
     "output_type": "execute_result"
    }
   ],
   "source": [
    "p # 答え　エオカ"
   ]
  },
  {
   "cell_type": "markdown",
   "metadata": {},
   "source": [
    "# 類似問題を生成する"
   ]
  },
  {
   "cell_type": "code",
   "execution_count": 113,
   "metadata": {
    "collapsed": true
   },
   "outputs": [],
   "source": [
    "x = Symbol('x')"
   ]
  },
  {
   "cell_type": "code",
   "execution_count": 114,
   "metadata": {
    "collapsed": true
   },
   "outputs": [],
   "source": [
    "a, b = symbols('a, b')"
   ]
  },
  {
   "cell_type": "code",
   "execution_count": 115,
   "metadata": {
    "collapsed": true
   },
   "outputs": [],
   "source": [
    "given_expr = x**2 + a**2 / x**2  # 与えられる式 = b"
   ]
  },
  {
   "cell_type": "code",
   "execution_count": 116,
   "metadata": {
    "collapsed": true
   },
   "outputs": [],
   "source": [
    "ans_expr_1 = (x + a /x)**2  #1つ目の答えとして求める式"
   ]
  },
  {
   "cell_type": "code",
   "execution_count": 117,
   "metadata": {},
   "outputs": [
    {
     "data": {
      "image/png": "[encoded data removed]",
      "text/latex": [
       "$$\\left ( 1, \\quad 2 a\\right )$$"
      ],
      "text/plain": [
       "(1, 2⋅a)"
      ]
     },
     "execution_count": 117,
     "metadata": {},
     "output_type": "execute_result"
    }
   ],
   "source": [
    "div(ans_expr_1, given_expr)"
   ]
  },
  {
   "cell_type": "code",
   "execution_count": 118,
   "metadata": {
    "collapsed": true
   },
   "outputs": [],
   "source": [
    "ans_1 = b + 2*a  # 2つ目の答え"
   ]
  },
  {
   "cell_type": "markdown",
   "metadata": {},
   "source": [
    "値を代入して確認してみる。"
   ]
  },
  {
   "cell_type": "code",
   "execution_count": 119,
   "metadata": {},
   "outputs": [
    {
     "data": {
      "image/png": "[encoded data removed]",
      "text/latex": [
       "$$x^{2} + \\frac{4}{x^{2}}$$"
      ],
      "text/plain": [
       " 2   4 \n",
       "x  + ──\n",
       "      2\n",
       "     x "
      ]
     },
     "execution_count": 119,
     "metadata": {},
     "output_type": "execute_result"
    }
   ],
   "source": [
    "given_expr.subs({a:2})"
   ]
  },
  {
   "cell_type": "code",
   "execution_count": 120,
   "metadata": {},
   "outputs": [
    {
     "data": {
      "image/png": "[encoded data removed]",
      "text/latex": [
       "$$\\left(x + \\frac{2}{x}\\right)^{2}$$"
      ],
      "text/plain": [
       "       2\n",
       "⎛    2⎞ \n",
       "⎜x + ─⎟ \n",
       "⎝    x⎠ "
      ]
     },
     "execution_count": 120,
     "metadata": {},
     "output_type": "execute_result"
    }
   ],
   "source": [
    "ans_expr_1.subs({a:2})"
   ]
  },
  {
   "cell_type": "code",
   "execution_count": 121,
   "metadata": {},
   "outputs": [
    {
     "data": {
      "image/png": "[encoded data removed]",
      "text/latex": [
       "$$13$$"
      ],
      "text/plain": [
       "13"
      ]
     },
     "execution_count": 121,
     "metadata": {},
     "output_type": "execute_result"
    }
   ],
   "source": [
    "ans_1.subs({a:2, b:9})"
   ]
  },
  {
   "cell_type": "markdown",
   "metadata": {},
   "source": [
    "となって、元の問題が生成できている。"
   ]
  },
  {
   "cell_type": "markdown",
   "metadata": {},
   "source": [
    "同様に2つ目の式も生成する。"
   ]
  },
  {
   "cell_type": "code",
   "execution_count": 122,
   "metadata": {
    "collapsed": true
   },
   "outputs": [],
   "source": [
    "c = Symbol('c')"
   ]
  },
  {
   "cell_type": "code",
   "execution_count": 123,
   "metadata": {
    "collapsed": true
   },
   "outputs": [],
   "source": [
    "p = (x + a/x)*(x**2 + a**2/x**2 -c)"
   ]
  },
  {
   "cell_type": "code",
   "execution_count": 124,
   "metadata": {},
   "outputs": [
    {
     "data": {
      "image/png": "[encoded data removed]",
      "text/latex": [
       "$$\\frac{a^{3}}{x^{3}} + x^{3} + x \\left(a - c\\right) + \\frac{1}{x} \\left(a^{2} - a c\\right)$$"
      ],
      "text/plain": [
       " 3                     2      \n",
       "a     3               a  - a⋅c\n",
       "── + x  + x⋅(a - c) + ────────\n",
       " 3                       x    \n",
       "x                             "
      ]
     },
     "execution_count": 124,
     "metadata": {},
     "output_type": "execute_result"
    }
   ],
   "source": [
    "collect(p.expand(), x)"
   ]
  },
  {
   "cell_type": "markdown",
   "metadata": {},
   "source": [
    "これが、`x^3 + a^3/x^3` になって欲しいので、`a=c`であることがわかる。"
   ]
  },
  {
   "cell_type": "code",
   "execution_count": 125,
   "metadata": {
    "collapsed": true
   },
   "outputs": [],
   "source": [
    "ans_expr_2 = sqrt(ans_1) * (b -a)"
   ]
  },
  {
   "cell_type": "markdown",
   "metadata": {},
   "source": [
    "値を代入して確認する。"
   ]
  },
  {
   "cell_type": "code",
   "execution_count": 126,
   "metadata": {},
   "outputs": [
    {
     "data": {
      "image/png": "[encoded data removed]",
      "text/latex": [
       "$$7 \\sqrt{13}$$"
      ],
      "text/plain": [
       "7⋅√13"
      ]
     },
     "execution_count": 126,
     "metadata": {},
     "output_type": "execute_result"
    }
   ],
   "source": [
    "ans_expr_2.subs({a:2, b:9, ans_1:13})"
   ]
  },
  {
   "cell_type": "markdown",
   "metadata": {},
   "source": [
    "## 問題生成コードを関数にまとめる"
   ]
  },
  {
   "cell_type": "code",
   "execution_count": 138,
   "metadata": {
    "collapsed": true
   },
   "outputs": [],
   "source": [
    "from random import randint, choice\n",
    "\n",
    "def generate_problem():\n",
    "    x = Symbol('x')\n",
    "    a,b = symbols('a,b')\n",
    "\n",
    "    a_var_list = range(1,6)\n",
    "    b_var_list = range(6,20)\n",
    "    a_var = choice(a_var_list)\n",
    "    b_var = choice(b_var_list)\n",
    "    expr = x + a/x\n",
    "    given_expr = x**2 + a**2 / x**2\n",
    "    ans_expr_1 = expr**2\n",
    "    ans_1 = b + 2*a\n",
    "    expr_var = sqrt(ans_1).subs({a:a_var, b:b_var})\n",
    "    ans_expr_2 = expr * (b - a)\n",
    "    print('生成したa: ' + str(a_var))\n",
    "    print('生成したb: ' + str(b_var))\n",
    "    print('与えられた式: ' + str(expand(given_expr).subs({a:a_var})))\n",
    "    print('与えられた式の値: ' + str(b.subs({b:b_var})))\n",
    "    print('求める式1: ' + str(ans_expr_1.subs({a:a_var})))\n",
    "    print('答えアイ: ' + str(ans_1.subs({a:a_var, b:b_var})))\n",
    "    print('求める式2: ' + str(expand(ans_expr_2).subs({a:a_var})))\n",
    "    print('答えウ: ' + str(a.subs({a:a_var})))\n",
    "    print('答えエオカ: ' + str(ans_expr_2.subs({a:a_var, b:b_var, expr:expr_var})))"
   ]
  },
  {
   "cell_type": "code",
   "execution_count": 142,
   "metadata": {},
   "outputs": [
    {
     "name": "stdout",
     "output_type": "stream",
     "text": [
      "生成したa: 3\n",
      "生成したb: 18\n",
      "与えられた式: x**2 + 9/x**2\n",
      "与えられた式の値: 18\n",
      "求める式1: (x + 3/x)**2\n",
      "答えアイ: 24\n",
      "求める式2: b*x + 3*b/x - 3*x - 9/x\n",
      "答えウ: 3\n",
      "答えエオカ: 30*sqrt(6)\n"
     ]
    }
   ],
   "source": [
    "generate_problem()"
   ]
  }
 ],
 "metadata": {
  "kernelspec": {
   "display_name": "Python 3",
   "language": "python",
   "name": "python3"
  },
  "language_info": {
   "codemirror_mode": {
    "name": "ipython",
    "version": 3
   },
   "file_extension": ".py",
   "mimetype": "text/x-python",
   "name": "python",
   "nbconvert_exporter": "python",
   "pygments_lexer": "ipython3",
   "version": "3.5.2"
  }
 },
 "nbformat": 4,
 "nbformat_minor": 2
}
